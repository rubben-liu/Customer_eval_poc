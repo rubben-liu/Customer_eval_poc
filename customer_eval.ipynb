{
 "cells": [
  {
   "cell_type": "code",
   "execution_count": 1,
   "id": "459fbad8",
   "metadata": {},
   "outputs": [
    {
     "name": "stdout",
     "output_type": "stream",
     "text": [
      "Already have cardiovascular_model.pkl\n",
      "Successfully imported cardiovascular_model\n",
      "Already have diabete_model.pkl\n",
      "Successfully imported diabete_model\n",
      "Already have insurance_model.pkl\n",
      "Successfully imported insurance_model\n"
     ]
    }
   ],
   "source": [
    "import cardiovascular_model\n",
    "import diabete_model\n",
    "import insurance_model\n",
    "import insurance_product_generator\n",
    "\n",
    "import os"
   ]
  },
  {
   "cell_type": "code",
   "execution_count": 2,
   "id": "595c7403",
   "metadata": {},
   "outputs": [],
   "source": [
    "import pickle\n",
    "\n",
    "with open('diabete_model.pkl','rb') as f:\n",
    "    diab_clf = pickle.load(f)\n",
    "\n",
    "with open('cardiovascular_model.pkl','rb') as f:\n",
    "    card_clf = pickle.load(f)\n",
    "    \n",
    "with open('insurance_model.pkl','rb') as f:\n",
    "    insu_clf = pickle.load(f)"
   ]
  },
  {
   "cell_type": "code",
   "execution_count": 3,
   "id": "d97793d9",
   "metadata": {},
   "outputs": [
    {
     "name": "stdout",
     "output_type": "stream",
     "text": [
      "Name: Test\n",
      "Age: 60\n",
      "Height(cm): 170\n",
      "Weight(kg): 70\n",
      "Gender(F/M):M\n",
      "Smoke(Y/N):Y\n"
     ]
    }
   ],
   "source": [
    "name = input('Name: ')\n",
    "age = int(input('Age: '))\n",
    "height = float(input('Height(cm): '))\n",
    "weight = float(input('Weight(kg): '))\n",
    "\n",
    "gender = 1 if input('Gender(F/M):') == 'F' else 2\n",
    "smoke = 1 if input('Smoke(Y/N):') == 'Y' else 0\n",
    "\n",
    "bmi = weight / height ** 2"
   ]
  },
  {
   "cell_type": "code",
   "execution_count": 4,
   "id": "a4c77cab",
   "metadata": {},
   "outputs": [],
   "source": [
    "cardio = diab_clf.predict([[age, gender, bmi, smoke]])\n",
    "diabete = card_clf.predict([[age, gender, bmi, smoke]])\n",
    "insu_cost = insu_clf.predict([[age, gender, bmi, smoke]])[0]"
   ]
  },
  {
   "cell_type": "code",
   "execution_count": 5,
   "id": "a1f3e586",
   "metadata": {},
   "outputs": [
    {
     "name": "stdout",
     "output_type": "stream",
     "text": [
      "Insurance cost estimate = 25678.78\n"
     ]
    }
   ],
   "source": [
    "if(cardio == 1):\n",
    "    print(\"Chance to have diabete\")\n",
    "if(diabete == 1):\n",
    "    print(\"Chance to have cardiovascular disease\")\n",
    "    \n",
    "print(\"Insurance cost estimate = \" + '{:.2f}'.format(insu_cost))"
   ]
  },
  {
   "cell_type": "code",
   "execution_count": 6,
   "id": "cbdf7058",
   "metadata": {},
   "outputs": [
    {
     "name": "stdout",
     "output_type": "stream",
     "text": [
      "Recommand Product: \n",
      "id = 78\n",
      "product name = Home\n",
      "premium = 25356\n",
      "limit = 456400\n",
      "deductible = 8450\n",
      "\n",
      "\n"
     ]
    }
   ],
   "source": [
    "max = 0\n",
    "product = ''\n",
    "\n",
    "with open('./dataset/insurance_product.csv','r') as f:\n",
    "    f.readline()\n",
    "    for line in f:\n",
    "        if float(line.split(',')[2]) < insu_cost and max < float(line.split(',')[2]):\n",
    "            max = float(line.split(',')[2])\n",
    "            product = line\n",
    "            \n",
    "    print('Recommand Product: \\n' + \\\n",
    "          'id = ' + product.split(',')[0] + '\\n' + \\\n",
    "          'product name = ' + product.split(',')[1] + '\\n' + \\\n",
    "          'premium = ' + product.split(',')[2] + '\\n' + \\\n",
    "          'limit = ' + product.split(',')[3] + '\\n' + \\\n",
    "          'deductible = ' + product.split(',')[4] + '\\n'\n",
    "         )"
   ]
  },
  {
   "cell_type": "code",
   "execution_count": 7,
   "id": "aae2ea25",
   "metadata": {},
   "outputs": [
    {
     "name": "stdout",
     "output_type": "stream",
     "text": [
      "Record your info(Y/N): Y\n"
     ]
    }
   ],
   "source": [
    "new_user = True if input('Record your info(Y/N): ') == 'Y' else False"
   ]
  },
  {
   "cell_type": "code",
   "execution_count": 8,
   "id": "bc9d9392",
   "metadata": {},
   "outputs": [
    {
     "name": "stdout",
     "output_type": "stream",
     "text": [
      "Recorded!\n"
     ]
    }
   ],
   "source": [
    "if not os.path.exists('./dataset/customer.csv'):\n",
    "    with open('./dataset/customer.csv','w') as f:\n",
    "        f.write(','.join(['id','name', 'age', 'height/cm', 'weight/kg', 'gender/F:M', 'smoke/Y:N', 'cardio/1:0', 'diabete/1:0', 'insu_cost/$', 'match_product_id' + '\\n']))\n",
    "        f.close()\n",
    "        \n",
    "with open('./dataset/customer.csv','r') as f:\n",
    "    for line in f:\n",
    "        if line.split(',')[1] == str(name) and \\\n",
    "        line.split(',')[2] == str(age) and \\\n",
    "        line.split(',')[3] == str(height) and \\\n",
    "        line.split(',')[4] == str(weight) and \\\n",
    "        line.split(',')[5] == ['F' if gender == 1 else 'M'][0] and \\\n",
    "        line.split(',')[6] == ['Y' if smoke == 1 else 'N'][0]:\n",
    "            new_user = False\n",
    "            break\n",
    "\n",
    "if new_user:\n",
    "    with open('./dataset/customer.csv','a+') as f:\n",
    "        f.write(','.join([str(sum(1 for line in f) + 1), str(name), str(age), str(height), str(weight),\\\n",
    "                ['F' if gender == 1 else 'M'][0], ['Y' if smoke == 1 else 'N'][0], str(cardio[0]), str(diabete[0]), str(insu_cost), str(product.split(',')[0]) + '\\n']))\n",
    "    print('Recorded!')"
   ]
  },
  {
   "cell_type": "code",
   "execution_count": null,
   "id": "e60cca27",
   "metadata": {},
   "outputs": [],
   "source": []
  }
 ],
 "metadata": {
  "kernelspec": {
   "display_name": "Python 3 (ipykernel)",
   "language": "python",
   "name": "python3"
  },
  "language_info": {
   "codemirror_mode": {
    "name": "ipython",
    "version": 3
   },
   "file_extension": ".py",
   "mimetype": "text/x-python",
   "name": "python",
   "nbconvert_exporter": "python",
   "pygments_lexer": "ipython3",
   "version": "3.11.5"
  }
 },
 "nbformat": 4,
 "nbformat_minor": 5
}
