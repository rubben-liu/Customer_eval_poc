{
 "cells": [
  {
   "cell_type": "code",
   "execution_count": 1,
   "id": "459fbad8",
   "metadata": {},
   "outputs": [
    {
     "name": "stdout",
     "output_type": "stream",
     "text": [
      "Already have cardiovascular_model.pkl\n",
      "Successfully imported cardiovascular_model\n",
      "Already have diabete_model.pkl\n",
      "Successfully imported diabete_model\n",
      "Already have insurance_model.pkl\n",
      "Successfully imported insurance_model\n"
     ]
    }
   ],
   "source": [
    "import cardiovascular_model\n",
    "import diabete_model\n",
    "import insurance_model\n",
    "import insurance_product_generator\n",
    "\n",
    "import os"
   ]
  },
  {
   "cell_type": "code",
   "execution_count": 2,
   "id": "595c7403",
   "metadata": {},
   "outputs": [],
   "source": [
    "import pickle\n",
    "\n",
    "with open('diabete_model.pkl','rb') as f:\n",
    "    diab_clf = pickle.load(f)\n",
    "\n",
    "with open('cardiovascular_model.pkl','rb') as f:\n",
    "    card_clf = pickle.load(f)\n",
    "    \n",
    "with open('insurance_model.pkl','rb') as f:\n",
    "    insu_clf = pickle.load(f)"
   ]
  },
  {
   "cell_type": "code",
   "execution_count": 3,
   "id": "42efeba5",
   "metadata": {},
   "outputs": [],
   "source": [
    "from tkinter import *\n",
    "from tkinter import ttk\n",
    "from tkinter import scrolledtext"
   ]
  },
  {
   "cell_type": "code",
   "execution_count": 4,
   "id": "d97793d9",
   "metadata": {},
   "outputs": [],
   "source": [
    "def receive_input():\n",
    "    global name, age, height, weight, gender, smoke, bmi\n",
    "    global gender_combobox\n",
    "    name = name_entry.get()\n",
    "    age = int(age_entry.get())\n",
    "    height = float(height_entry.get())\n",
    "    weight = float(weight_entry.get())\n",
    "    \n",
    "    gender = 1 if gender_combobox.current() == 0 else 2\n",
    "    smoke = 1 if smoke_combobox.current() == 0 else 0\n",
    "\n",
    "    bmi = weight / ((height / 100) ** 2)"
   ]
  },
  {
   "cell_type": "code",
   "execution_count": 5,
   "id": "a4c77cab",
   "metadata": {},
   "outputs": [],
   "source": [
    "def calc():\n",
    "    global cardio, diabete, insu_cost\n",
    "    cardio = diab_clf.predict([[age, gender, bmi, smoke]])\n",
    "    diabete = card_clf.predict([[age, gender, bmi, smoke]])\n",
    "    insu_cost = insu_clf.predict([[age, gender, bmi, smoke]])[0]"
   ]
  },
  {
   "cell_type": "code",
   "execution_count": 6,
   "id": "a1f3e586",
   "metadata": {},
   "outputs": [],
   "source": [
    "def display_result():\n",
    "    global cardio, diabete, insu_cost\n",
    "\n",
    "    if(cardio == 1):\n",
    "        res.insert(INSERT, \"Chance to have diabete\\n\")\n",
    "    if(diabete == 1):\n",
    "        res.insert(INSERT, \"Chance to have cardiovascular disease\\n\")\n",
    "\n",
    "    res.insert(INSERT, \"Insurance cost estimate = \" + '{:.2f}'.format(insu_cost) + '\\n')"
   ]
  },
  {
   "cell_type": "code",
   "execution_count": 7,
   "id": "cbdf7058",
   "metadata": {},
   "outputs": [],
   "source": [
    "def recommand_product():\n",
    "    max = 0\n",
    "\n",
    "    with open('./dataset/insurance_product.csv','r') as f:\n",
    "        f.readline()\n",
    "        for line in f:\n",
    "            if float(line.split(',')[2]) < insu_cost and max < float(line.split(',')[2]):\n",
    "                max = float(line.split(',')[2])\n",
    "                product = line\n",
    "\n",
    "        res.insert(INSERT, 'Recommand Product: \\n' + \\\n",
    "              'id = ' + product.split(',')[0] + '\\n' + \\\n",
    "              'product name = ' + product.split(',')[1] + '\\n' + \\\n",
    "              'premium = ' + product.split(',')[2] + '\\n' + \\\n",
    "              'limit = ' + product.split(',')[3] + '\\n' + \\\n",
    "              'deductible = ' + product.split(',')[4] + '\\n'\n",
    "             )"
   ]
  },
  {
   "cell_type": "code",
   "execution_count": 8,
   "id": "bc9d9392",
   "metadata": {},
   "outputs": [],
   "source": [
    "def save_user():\n",
    "    new_user = record_var.get()\n",
    "    \n",
    "    if not os.path.exists('./dataset/customer.csv'):\n",
    "        with open('./dataset/customer.csv','w') as f:\n",
    "            f.write(','.join(['id','name', 'age', 'height/cm', 'weight/kg', 'gender/F:M', 'smoke/Y:N', 'cardio/1:0', 'diabete/1:0', 'insu_cost/$', 'match_product_id' + '\\n']))\n",
    "            f.close()\n",
    "\n",
    "    with open('./dataset/customer.csv','r') as f:\n",
    "        for line in f:\n",
    "            if line.split(',')[1] == str(name) and \\\n",
    "            line.split(',')[2] == str(age) and \\\n",
    "            line.split(',')[3] == str(height) and \\\n",
    "            line.split(',')[4] == str(weight) and \\\n",
    "            line.split(',')[5] == ['F' if gender == 1 else 'M'][0] and \\\n",
    "            line.split(',')[6] == ['Y' if smoke == 1 else 'N'][0]:\n",
    "                new_user = False\n",
    "                break\n",
    "\n",
    "    if new_user:\n",
    "        with open('./dataset/customer.csv','a+') as f:\n",
    "            f.write(','.join([str(sum(1 for line in f) + 1), str(name), str(age), str(height), str(weight),\\\n",
    "                    ['F' if gender == 1 else 'M'][0], ['Y' if smoke == 1 else 'N'][0], str(cardio[0]), str(diabete[0]), str(insu_cost), str(product.split(',')[0]) + '\\n']))\n",
    "        res.insert(INSERT, 'Recorded!')"
   ]
  },
  {
   "cell_type": "code",
   "execution_count": 9,
   "id": "f0dd3fcf",
   "metadata": {},
   "outputs": [],
   "source": [
    "def eval_customer():\n",
    "    res.config(state = NORMAL)\n",
    "    res.delete(1.0, END)\n",
    "    \n",
    "    receive_input()\n",
    "    calc()\n",
    "    display_result()\n",
    "    recommand_product()\n",
    "    save_user()"
   ]
  },
  {
   "cell_type": "code",
   "execution_count": 10,
   "id": "7b1d9845",
   "metadata": {},
   "outputs": [],
   "source": [
    "if __name__ == '__main__':\n",
    "    root = Tk()\n",
    "    root.geometry('800x600+300+200')\n",
    "    root.title('Customer_Eval')\n",
    "    \n",
    "    record_var = BooleanVar()\n",
    "    record_var.set(True)\n",
    "    name = ''\n",
    "    age = 0\n",
    "    height = 0.0\n",
    "    weight = 0.0\n",
    "    gender = 1\n",
    "    smoke = 0\n",
    "    bmi = 0.0\n",
    "    cardio = 0\n",
    "    diabete = 0\n",
    "    insu_cost = 0.0\n",
    "    product = ''\n",
    "\n",
    "    name_label = Label(root, text = 'Name:')\n",
    "    name_label.place(x = 100, y = 50)\n",
    "\n",
    "    name_entry = Entry(root, width = 20)\n",
    "    name_entry.place(x = 200, y = 50)\n",
    "\n",
    "    age_label = Label(root, text = 'Age:')\n",
    "    age_label.place(x = 400, y = 50)\n",
    "\n",
    "    age_entry = Entry(root, width = 20)\n",
    "    age_entry.place(x = 500, y = 50)\n",
    "\n",
    "    height_label = Label(root, text = 'Height(cm):')\n",
    "    height_label.place(x = 100, y = 100)\n",
    "\n",
    "    height_entry = Entry(root, width = 20)\n",
    "    height_entry.place(x = 200, y = 100)\n",
    "\n",
    "    weight_label = Label(root, text = 'Weight(kg):')\n",
    "    weight_label.place(x = 400, y = 100)\n",
    "\n",
    "    weight_entry = Entry(root, width = 20)\n",
    "    weight_entry.place(x = 500, y = 100)\n",
    "\n",
    "    gender_label = Label(root, text = 'Gender(F/M):')\n",
    "    gender_label.place(x = 100, y = 150)\n",
    "\n",
    "    gender_combobox = ttk.Combobox(root, height = 3, values = ('Female', 'Male'), state = 'readonly')\n",
    "    gender_combobox.set('Female')\n",
    "    gender_combobox.place(x = 200, y = 150)\n",
    "\n",
    "    smoke_label = Label(root, text = 'Smoke(Y/N):')\n",
    "    smoke_label.place(x = 400, y = 150)\n",
    "\n",
    "    smoke_combobox = ttk.Combobox(root, height = 3, values = ('Yes', 'No'), state = 'readonly')\n",
    "    smoke_combobox.set('No')\n",
    "    smoke_combobox.place(x = 500, y = 150)\n",
    "\n",
    "    record_checkbutton = Checkbutton(root, text = 'Record your info(Y/N): ', variable = record_var)\n",
    "    record_checkbutton.place(x = 200, y = 200)\n",
    "\n",
    "    submit_button = Button(root, text = 'Submit', command = eval_customer)\n",
    "    submit_button.place(x = 400, y = 200)\n",
    "\n",
    "    res = scrolledtext.ScrolledText(root, width = 75, height = 10)\n",
    "    res.place(x = 100, y = 300)\n",
    "    \n",
    "    root.attributes(\"-topmost\", 1)\n",
    "    root.update()\n",
    "    root.attributes(\"-topmost\", 0)\n",
    "\n",
    "    root.mainloop()"
   ]
  },
  {
   "cell_type": "code",
   "execution_count": null,
   "id": "a9d37e5c",
   "metadata": {},
   "outputs": [],
   "source": []
  }
 ],
 "metadata": {
  "kernelspec": {
   "display_name": "Python 3 (ipykernel)",
   "language": "python",
   "name": "python3"
  },
  "language_info": {
   "codemirror_mode": {
    "name": "ipython",
    "version": 3
   },
   "file_extension": ".py",
   "mimetype": "text/x-python",
   "name": "python",
   "nbconvert_exporter": "python",
   "pygments_lexer": "ipython3",
   "version": "3.11.5"
  }
 },
 "nbformat": 4,
 "nbformat_minor": 5
}
