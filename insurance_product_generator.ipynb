{
 "cells": [
  {
   "cell_type": "code",
   "execution_count": 10,
   "id": "7921239e",
   "metadata": {},
   "outputs": [],
   "source": [
    "import random\n",
    "import os\n",
    "\n",
    "random.seed(42)\n",
    "\n",
    "if not os.path.exists('./dataset/insurance_product.csv'):\n",
    "    with open('./dataset/insurance_product.csv', 'w') as f:\n",
    "        f.write(','.join(['id','product_name', 'premium', 'limit', 'deductible' + '\\n']))\n",
    "        f.close()\n",
    "        \n",
    "insurance_type = ['AH', 'Home', 'Auto', 'Life', 'Travel']\n",
    "f_length = 100\n",
    "\n",
    "row = 0\n",
    "with open('./dataset/insurance_product.csv','r') as f:\n",
    "    f.readline() # remove header\n",
    "    for line in f:\n",
    "        row+=1\n",
    "\n",
    "with open('./dataset/insurance_product.csv','a+') as f:\n",
    "    for i in range(row, f_length):\n",
    "        premium = random.randint(1000, 100000)\n",
    "        limit = int(premium * random.randint(10, 100) / 100) * 100\n",
    "        deductible = int(premium / random.randint(2, 10) / 10) * 10\n",
    "        f.write(','.join([str(i), insurance_type[random.randint(0, len(insurance_type) - 1)], \n",
    "                      str(premium), str(limit), str(deductible) + '\\n']))"
   ]
  },
  {
   "cell_type": "code",
   "execution_count": null,
   "id": "34048063",
   "metadata": {},
   "outputs": [],
   "source": []
  },
  {
   "cell_type": "code",
   "execution_count": null,
   "id": "dfe0a1cb",
   "metadata": {},
   "outputs": [],
   "source": []
  }
 ],
 "metadata": {
  "kernelspec": {
   "display_name": "Python 3 (ipykernel)",
   "language": "python",
   "name": "python3"
  },
  "language_info": {
   "codemirror_mode": {
    "name": "ipython",
    "version": 3
   },
   "file_extension": ".py",
   "mimetype": "text/x-python",
   "name": "python",
   "nbconvert_exporter": "python",
   "pygments_lexer": "ipython3",
   "version": "3.11.5"
  }
 },
 "nbformat": 4,
 "nbformat_minor": 5
}
